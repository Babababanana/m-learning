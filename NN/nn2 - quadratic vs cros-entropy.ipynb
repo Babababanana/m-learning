{
 "cells": [
  {
   "cell_type": "markdown",
   "metadata": {},
   "source": [
    "## Comparison - Quadratic vs. Cross-entropy Cost Function"
   ]
  },
  {
   "cell_type": "markdown",
   "metadata": {
    "collapsed": true
   },
   "source": [
    "![](img/nn with cross entropy function.png)"
   ]
  },
  {
   "cell_type": "code",
   "execution_count": 1,
   "metadata": {
    "collapsed": true
   },
   "outputs": [],
   "source": [
    "import numpy as np\n",
    "import random"
   ]
  },
  {
   "cell_type": "code",
   "execution_count": 2,
   "metadata": {
    "collapsed": true
   },
   "outputs": [],
   "source": [
    "# Quadratic cost function\n",
    "class QuadraticCost():\n",
    "    @staticmethod\n",
    "    def fn(a, y):\n",
    "        \"\"\"\n",
    "        Compute cost for an output and its corresponding desired output\n",
    "        \"\"\"\n",
    "        return 0.5 * np.linalg.norm(a-y)**2\n",
    "        \n",
    "    @staticmethod\n",
    "    def delta(z, a, y):\n",
    "        \"\"\"\n",
    "        Output layer error\n",
    "        \"\"\"\n",
    "        return sigmoid_prime(z) * (a - y)"
   ]
  },
  {
   "cell_type": "code",
   "execution_count": 3,
   "metadata": {
    "collapsed": true
   },
   "outputs": [],
   "source": [
    "# Cross-entropy cost function\n",
    "class CrossEntropyCost():\n",
    "    @staticmethod\n",
    "    def fn(a, y):\n",
    "        \"\"\"\n",
    "        Compute cost for an output and its corresponding desired output\n",
    "        \"\"\"\n",
    "        return np.sum(-y * np.log(a) - (1 - y) * np.log(1 - a))\n",
    "    \n",
    "    @staticmethod\n",
    "    def delta(z, a, y):\n",
    "        \"\"\"\n",
    "        Outpu layer error\n",
    "        \"\"\"\n",
    "        return a - y"
   ]
  },
  {
   "cell_type": "code",
   "execution_count": 4,
   "metadata": {
    "collapsed": true
   },
   "outputs": [],
   "source": [
    "class Network():\n",
    "    \"\"\"\n",
    "    The neural network class\n",
    "    \"\"\"\n",
    "    \n",
    "    def __init__(self, sizes, cost=CrossEntropyCost):\n",
    "        \"\"\"\n",
    "        sizes: an array containing the number of neuons in each layer, layer 0 is the input layer\n",
    "        num_layer: number of layers in the network\n",
    "        biases: randomly initialized array containing column vector of biases for each layer\n",
    "        weights: randomly initialized array containig m(l-1) * m(l) weight matrix for each layer\n",
    "        \"\"\"\n",
    "        self.num_layer = len(sizes)\n",
    "        self.sizes = sizes\n",
    "        self.biases = [np.random.randn(y, 1) for y in sizes[1:]]\n",
    "        self.weights = [np.random.randn(y, x) for x, y in zip(sizes[1:], sizes[:-1])]\n",
    "        self.cost = cost\n",
    "    \n",
    "    def feedforward(self, a):\n",
    "        \"\"\"\n",
    "        Feed forward the network and get zs and activations\n",
    "        Activations in the final layer is the output\n",
    "        \"\"\"\n",
    "        for b, w in zip(self.biases, self.weights):\n",
    "            a = sigmoid(np.dot(w.T, a) + b)\n",
    "        return a\n",
    "    \n",
    "    def sgd(self, training_data, epochs, mini_batch_size, alpha, test_data):\n",
    "        \"\"\"\n",
    "        Mini-batch stocastic gradient descent\n",
    "        training_data: input training data\n",
    "        epochs: number of times to run the whole training data\n",
    "        mini_batch_size: how many training examples in a mini batch\n",
    "        alpha: learning rate\n",
    "        test_data: if provided, evaluate performance after each epoch\n",
    "        \"\"\"\n",
    "        test_data = list(test_data)\n",
    "        n_test = len(test_data)\n",
    "            \n",
    "        training_data = list(training_data)\n",
    "        n = len(training_data)\n",
    "        training_cost = []\n",
    "        \n",
    "        for j in range(epochs):\n",
    "            random.shuffle(training_data)\n",
    "            mini_batches = [training_data[k:k + mini_batch_size] for k in range(0, n, mini_batch_size)]\n",
    "            \n",
    "            for mini_batch in mini_batches:\n",
    "                self.update_network(mini_batch, alpha)\n",
    "            \n",
    "            training_cost.append(self.get_total_cost(training_data))\n",
    "            \n",
    "            print(\"Epoch {0}: {1} / {2}\".format(j, self.evaluate(test_data), n_test))\n",
    "        \n",
    "        return training_cost\n",
    "    \n",
    "    def update_network(self, mini_batch, alpha):\n",
    "        \"\"\"\n",
    "        Update the weights and biases of the network\n",
    "        mini_batch: mini batch containg training examples\n",
    "        alpha: learning rate\n",
    "        \"\"\"\n",
    "        batch_deriv_b = [np.zeros(b.shape) for b in self.biases]\n",
    "        batch_deriv_w = [np.zeros(w.shape) for w in self.weights]\n",
    "        \n",
    "        # Get the sum of derivatives of the mini batch\n",
    "        for x, y in mini_batch:\n",
    "            this_deriv_w, this_deriv_b = self.backprop(x, y)\n",
    "            batch_deriv_b = [nb + dnb for nb, dnb in zip(batch_deriv_b, this_deriv_b)]\n",
    "            batch_deriv_w = [nw + dnw for nw, dnw in zip(batch_deriv_w, this_deriv_w)]\n",
    "        \n",
    "        # Update weights and biases\n",
    "        self.weights = [w - (alpha / len(mini_batch)) * nw for w, nw in zip(self.weights, batch_deriv_w)]\n",
    "        self.biases = [b - (alpha / len(mini_batch)) * nb for b, nb in zip(self.biases, batch_deriv_b)]\n",
    "        \n",
    "    def backprop(self, x, y):\n",
    "        \"\"\"\n",
    "        Backpropagate to calculate cost function gradients for each training example\n",
    "        x, y: single input training example\n",
    "        \"\"\"\n",
    "        deriv_b = [np.zeros(b.shape) for b in self.biases]\n",
    "        deriv_w = [np.zeros(w.shape) for w in self.weights]\n",
    "        \n",
    "        # Feedforward to calculate zs and activations\n",
    "        activations = [x]\n",
    "        zs = []\n",
    "        \n",
    "        for w, b in zip(self.weights, self.biases):\n",
    "            zs.append(np.dot(w.T, activations[-1]) + b)\n",
    "            activations.append(sigmoid(zs[-1]))\n",
    "        \n",
    "        # Backward pass\n",
    "        # Output layer delta and gradients\n",
    "        delta = self.cost.delta(zs[-1], activations[-1], y)\n",
    "        deriv_b[-1] = delta\n",
    "        deriv_w[-1] = np.dot(activations[-2], delta.T)\n",
    "        \n",
    "        # Previous layers\n",
    "        for l in range(2, self.num_layer):\n",
    "            z = zs[-l]\n",
    "            delta = np.dot(self.weights[-l + 1], delta) * sigmoid_prime(z)\n",
    "            deriv_b[-l] = delta\n",
    "            deriv_w[-l] = np.dot(activations[-l - 1], delta.T)\n",
    "            \n",
    "        return (deriv_w, deriv_b)\n",
    "    \n",
    "    def get_total_cost(self, data):\n",
    "        \"\"\"\n",
    "        Compute total cost using the computed weights and biases\n",
    "        \"\"\"\n",
    "        cost = 0\n",
    "        for x, y in data:\n",
    "            a = self.feedforward(x)\n",
    "            cost += self.cost.fn(a, y) / len(data)\n",
    "        return cost\n",
    "        \n",
    "    def evaluate(self, test_data):\n",
    "        \"\"\"\n",
    "        Return the number of correctly predicted results\n",
    "        test_data: test dataset\n",
    "        test_res: test result, tuples of predicted digit and the real digit\n",
    "        \"\"\"\n",
    "        test_res = [(np.argmax(self.feedforward(x)), y) for x, y in test_data]\n",
    "        return sum(int(pred == y) for pred, y in test_res)\n",
    "    \n",
    "def sigmoid(x):\n",
    "    \"\"\"The sigmoid function\"\"\"\n",
    "    return 1/(1 + np.exp(-x))\n",
    "\n",
    "def sigmoid_prime(x):\n",
    "    \"\"\"Derivative of the sigmoid function\"\"\"\n",
    "    return sigmoid(x) * (1 - sigmoid(x))"
   ]
  },
  {
   "cell_type": "code",
   "execution_count": 5,
   "metadata": {},
   "outputs": [
    {
     "name": "stdout",
     "output_type": "stream",
     "text": [
      "Epoch 0: 9145 / 10000\n",
      "Epoch 1: 9320 / 10000\n",
      "Epoch 2: 9295 / 10000\n",
      "Epoch 3: 9373 / 10000\n",
      "Epoch 4: 9416 / 10000\n",
      "Epoch 5: 9436 / 10000\n",
      "Epoch 6: 9459 / 10000\n",
      "Epoch 7: 9438 / 10000\n",
      "Epoch 8: 9436 / 10000\n",
      "Epoch 9: 9489 / 10000\n",
      "Epoch 10: 9424 / 10000\n",
      "Epoch 11: 9439 / 10000\n",
      "Epoch 12: 9474 / 10000\n",
      "Epoch 13: 9422 / 10000\n",
      "Epoch 14: 9508 / 10000\n",
      "Epoch 15: 9470 / 10000\n",
      "Epoch 16: 9488 / 10000\n",
      "Epoch 17: 9432 / 10000\n",
      "Epoch 18: 9516 / 10000\n",
      "Epoch 19: 9486 / 10000\n",
      "Epoch 20: 9501 / 10000\n",
      "Epoch 21: 9427 / 10000\n",
      "Epoch 22: 9489 / 10000\n",
      "Epoch 23: 9558 / 10000\n",
      "Epoch 24: 9508 / 10000\n",
      "Epoch 25: 9522 / 10000\n",
      "Epoch 26: 9503 / 10000\n",
      "Epoch 27: 9516 / 10000\n",
      "Epoch 28: 9534 / 10000\n",
      "Epoch 29: 9511 / 10000\n"
     ]
    }
   ],
   "source": [
    "# Test\n",
    "# Using cross-entropy cost function\n",
    "import mnist_loader\n",
    "training_data, validation_data, test_data = mnist_loader.load_data_wrapper()\n",
    "\n",
    "net1 = Network([784, 30, 10])\n",
    "training_cost1 = net1.sgd(training_data, 30, 10, 2.0, test_data=test_data)"
   ]
  },
  {
   "cell_type": "code",
   "execution_count": 6,
   "metadata": {},
   "outputs": [
    {
     "name": "stdout",
     "output_type": "stream",
     "text": [
      "Epoch 0: 9016 / 10000\n",
      "Epoch 1: 9145 / 10000\n",
      "Epoch 2: 9228 / 10000\n",
      "Epoch 3: 9294 / 10000\n",
      "Epoch 4: 9291 / 10000\n",
      "Epoch 5: 9357 / 10000\n",
      "Epoch 6: 9382 / 10000\n",
      "Epoch 7: 9403 / 10000\n",
      "Epoch 8: 9383 / 10000\n",
      "Epoch 9: 9416 / 10000\n",
      "Epoch 10: 9432 / 10000\n",
      "Epoch 11: 9380 / 10000\n",
      "Epoch 12: 9422 / 10000\n",
      "Epoch 13: 9430 / 10000\n",
      "Epoch 14: 9429 / 10000\n",
      "Epoch 15: 9450 / 10000\n",
      "Epoch 16: 9460 / 10000\n",
      "Epoch 17: 9466 / 10000\n",
      "Epoch 18: 9441 / 10000\n",
      "Epoch 19: 9467 / 10000\n",
      "Epoch 20: 9467 / 10000\n",
      "Epoch 21: 9477 / 10000\n",
      "Epoch 22: 9458 / 10000\n",
      "Epoch 23: 9466 / 10000\n",
      "Epoch 24: 9477 / 10000\n",
      "Epoch 25: 9477 / 10000\n",
      "Epoch 26: 9458 / 10000\n",
      "Epoch 27: 9473 / 10000\n",
      "Epoch 28: 9481 / 10000\n",
      "Epoch 29: 9476 / 10000\n"
     ]
    }
   ],
   "source": [
    "# Test\n",
    "# Using quadratic cost function\n",
    "import mnist_loader\n",
    "training_data, validation_data, test_data = mnist_loader.load_data_wrapper()\n",
    "\n",
    "net2 = Network([784, 30, 10], cost=QuadraticCost)\n",
    "training_cost2 = net2.sgd(training_data, 30, 10, 2.0, test_data=test_data)"
   ]
  },
  {
   "cell_type": "code",
   "execution_count": 7,
   "metadata": {
    "collapsed": true
   },
   "outputs": [],
   "source": [
    "import matplotlib.pyplot as plt\n",
    "%matplotlib inline"
   ]
  },
  {
   "cell_type": "code",
   "execution_count": 8,
   "metadata": {},
   "outputs": [
    {
     "data": {
      "image/png": "[encoded data removed]",
      "text/plain": [
       "<matplotlib.figure.Figure at 0x127154b8dd8>"
      ]
     },
     "metadata": {},
     "output_type": "display_data"
    }
   ],
   "source": [
    "epochs = len(training_cost1)\n",
    "canvas = plt.figure(figsize=(16, 16))\n",
    "sp1 = canvas.add_subplot(211)\n",
    "sp2 = canvas.add_subplot(212)\n",
    "\n",
    "sp1.set_xlim(0, epochs)\n",
    "sp1.plot([i for i in range(1, epochs + 1)], training_cost1)\n",
    "sp1.set_xlabel('Epochs')\n",
    "sp1.set_ylabel('Cost - Cross-entropy cost function')\n",
    "\n",
    "sp2.set_xlim(0, epochs)\n",
    "sp2.plot([i for i in range(1, epochs + 1)], training_cost2)\n",
    "sp2.set_xlabel('Epochs')\n",
    "sp2.set_ylabel('Cost - Quadratic cost function')\n",
    "        \n",
    "plt.show()"
   ]
  },
  {
   "cell_type": "code",
   "execution_count": 15,
   "metadata": {
    "collapsed": true
   },
   "outputs": [],
   "source": []
  },
  {
   "cell_type": "code",
   "execution_count": null,
   "metadata": {
    "collapsed": true
   },
   "outputs": [],
   "source": []
  }
 ],
 "metadata": {
  "kernelspec": {
   "display_name": "Python 3",
   "language": "python",
   "name": "python3"
  },
  "language_info": {
   "codemirror_mode": {
    "name": "ipython",
    "version": 3
   },
   "file_extension": ".py",
   "mimetype": "text/x-python",
   "name": "python",
   "nbconvert_exporter": "python",
   "pygments_lexer": "ipython3",
   "version": "3.6.3"
  }
 },
 "nbformat": 4,
 "nbformat_minor": 2
}
