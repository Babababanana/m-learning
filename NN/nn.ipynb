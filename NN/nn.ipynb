{
 "cells": [
  {
   "cell_type": "markdown",
   "metadata": {
    "collapsed": true
   },
   "source": [
    "# Neural Network"
   ]
  },
  {
   "cell_type": "markdown",
   "metadata": {},
   "source": [
    "![](img/nn and backpropagation.png)"
   ]
  },
  {
   "cell_type": "markdown",
   "metadata": {},
   "source": [
    "## Algorithm\n",
    "\n",
    "### Stocastic Gradient Descent\n",
    "1. Randomly shuffle the training set\n",
    "2. Segment the training set into mini batches\n",
    "3. For each mini batch:\n",
    "    - Update the network's weights and biases using the partial derivatives of weights and biases\n",
    "\n",
    "### Update network\n",
    "1. For each training example in the mini batch:\n",
    "    - Apply backpropagation\n",
    "\n",
    "### Backpropagation\n",
    "1. Feedforward to calculate zs and activations\n",
    "2. Backward pass to calculate deltas\n",
    "3. Get the partial derivatives of weights and biases using the calculated deltas"
   ]
  },
  {
   "cell_type": "code",
   "execution_count": 2,
   "metadata": {
    "collapsed": true
   },
   "outputs": [],
   "source": [
    "import numpy as np\n",
    "import random"
   ]
  },
  {
   "cell_type": "code",
   "execution_count": 3,
   "metadata": {
    "collapsed": true
   },
   "outputs": [],
   "source": [
    "import mnist_loader\n",
    "training_data, validation_data, test_data = mnist_loader.load_data_wrapper()"
   ]
  },
  {
   "cell_type": "code",
   "execution_count": 4,
   "metadata": {
    "collapsed": true
   },
   "outputs": [],
   "source": [
    "class Network():\n",
    "    \"\"\"\n",
    "    The neural network class\n",
    "    \"\"\"\n",
    "    \n",
    "    def __init__(self, sizes):\n",
    "        \"\"\"\n",
    "        sizes: an array containing the number of neuons in each layer, layer 0 is the input layer\n",
    "        num_layer: number of layers in the network\n",
    "        biases: randomly initialized array containing column vector of biases for each layer\n",
    "        weights: randomly initialized array containig m(l-1) * m(l) weight matrix for each layer\n",
    "        \"\"\"\n",
    "        self.num_layer = len(sizes)\n",
    "        self.sizes = sizes\n",
    "        self.biases = [np.random.randn(y, 1) for y in sizes[1:]]\n",
    "        self.weights = [np.random.randn(y, x) for x, y in zip(sizes[1:], sizes[:-1])]\n",
    "    \n",
    "    def feedforward(self, a):\n",
    "        \"\"\"\n",
    "        Feed forward the network and get zs and activations\n",
    "        Activations in the final layer is the output\n",
    "        \"\"\"\n",
    "        for b, w in zip(self.biases, self.weights):\n",
    "            a = sigmoid(np.dot(w.T, a) + b)\n",
    "        return a\n",
    "    \n",
    "    def sgd(self, training_data, epochs, mini_batch_size, alpha, test_data=None):\n",
    "        \"\"\"\n",
    "        Mini-batch stocastic gradient descent\n",
    "        training_data: input training data\n",
    "        epochs: number of times to run the whole training data\n",
    "        mini_batch_size: how many training examples in a mini batch\n",
    "        alpha: learning rate\n",
    "        test_data: if provided, evaluate performance after each epoch\n",
    "        \"\"\"\n",
    "        if test_data:\n",
    "            test_data = list(test_data)\n",
    "            n_test = len(test_data)\n",
    "            \n",
    "        training_data = list(training_data)\n",
    "        n = len(training_data)\n",
    "        \n",
    "        for j in range(epochs):\n",
    "            random.shuffle(training_data)\n",
    "            mini_batches = [training_data[k:k + mini_batch_size] for k in range(0, n, mini_batch_size)]\n",
    "            \n",
    "            for mini_batch in mini_batches:\n",
    "                self.update_network(mini_batch, alpha)\n",
    "            \n",
    "            if test_data:\n",
    "                print(\"Epoch {0}: {1} / {2}\".format(j, self.evaluate(test_data), n_test))\n",
    "            else:\n",
    "                print(\"Epoch {0} complete\".format(j))\n",
    "    \n",
    "    def update_network(self, mini_batch, alpha):\n",
    "        \"\"\"\n",
    "        Update the weights and biases of the network\n",
    "        mini_batch: mini batch containg training examples\n",
    "        alpha: learning rate\n",
    "        \"\"\"\n",
    "        batch_deriv_b = [np.zeros(b.shape) for b in self.biases]\n",
    "        batch_deriv_w = [np.zeros(w.shape) for w in self.weights]\n",
    "        \n",
    "        # Get the sum of derivatives of the mini batch\n",
    "        for x, y in mini_batch:\n",
    "            this_deriv_w, this_deriv_b = self.backprop(x, y)\n",
    "            batch_deriv_b = [nb + dnb for nb, dnb in zip(batch_deriv_b, this_deriv_b)]\n",
    "            batch_deriv_w = [nw + dnw for nw, dnw in zip(batch_deriv_w, this_deriv_w)]\n",
    "        \n",
    "        # Update weights and biases\n",
    "        self.weights = [w - (alpha / len(mini_batch)) * nw for w, nw in zip(self.weights, batch_deriv_w)]\n",
    "        self.biases = [b - (alpha / len(mini_batch)) * nb for b, nb in zip(self.biases, batch_deriv_b)]\n",
    "        \n",
    "    def backprop(self, x, y):\n",
    "        \"\"\"\n",
    "        Backpropagate to calculate cost function gradients for each training example\n",
    "        x, y: single input training example\n",
    "        \"\"\"\n",
    "        deriv_b = [np.zeros(b.shape) for b in self.biases]\n",
    "        deriv_w = [np.zeros(w.shape) for w in self.weights]\n",
    "        \n",
    "        # Feedforward to calculate zs and activations\n",
    "        activations = [x]\n",
    "        zs = []\n",
    "        \n",
    "        for w, b in zip(self.weights, self.biases):\n",
    "            zs.append(np.dot(w.T, activations[-1]) + b)\n",
    "            activations.append(sigmoid(zs[-1]))\n",
    "        \n",
    "        # Backward pass\n",
    "        # Output layer delta and gradients\n",
    "        delta = sigmoid_prime(zs[-1]) * self.cost_derivative(activations[-1], y)\n",
    "        deriv_b[-1] = delta\n",
    "        deriv_w[-1] = np.dot(activations[-2], delta.T)\n",
    "        \n",
    "        # Previous layers\n",
    "        for l in range(2, self.num_layer):\n",
    "            z = zs[-l]\n",
    "            delta = np.dot(self.weights[-l + 1], delta) * sigmoid_prime(z)\n",
    "            deriv_b[-l] = delta\n",
    "            deriv_w[-l] = np.dot(activations[-l - 1], delta.T)\n",
    "            \n",
    "        return (deriv_w, deriv_b)\n",
    "        \n",
    "    def evaluate(self, test_data):\n",
    "        \"\"\"\n",
    "        Return the number of correctly predicted results\n",
    "        test_data: test dataset\n",
    "        test_res: test result, tuples of predicted digit and the real digit\n",
    "        \"\"\"\n",
    "        test_res = [(np.argmax(self.feedforward(x)), y) for x, y in test_data]\n",
    "        return sum(int(pred == y) for pred, y in test_res)\n",
    "    \n",
    "    def cost_derivative(self, output_activations, y):\n",
    "        \"\"\"\n",
    "        Return the derivative of the cost function\n",
    "        \"\"\"\n",
    "        return output_activations - y\n",
    "    \n",
    "def sigmoid(x):\n",
    "    \"\"\"The sigmoid function\"\"\"\n",
    "    return 1/(1 + np.exp(-x))\n",
    "\n",
    "def sigmoid_prime(x):\n",
    "    \"\"\"Derivative of the sigmoid function\"\"\"\n",
    "    return sigmoid(x) * (1 - sigmoid(x))"
   ]
  },
  {
   "cell_type": "code",
   "execution_count": 5,
   "metadata": {},
   "outputs": [
    {
     "name": "stdout",
     "output_type": "stream",
     "text": [
      "Epoch 0: 8379 / 10000\n",
      "Epoch 1: 8483 / 10000\n",
      "Epoch 2: 9185 / 10000\n",
      "Epoch 3: 9321 / 10000\n",
      "Epoch 4: 9344 / 10000\n",
      "Epoch 5: 9401 / 10000\n",
      "Epoch 6: 9410 / 10000\n",
      "Epoch 7: 9417 / 10000\n",
      "Epoch 8: 9436 / 10000\n",
      "Epoch 9: 9458 / 10000\n",
      "Epoch 10: 9462 / 10000\n",
      "Epoch 11: 9436 / 10000\n",
      "Epoch 12: 9467 / 10000\n",
      "Epoch 13: 9460 / 10000\n",
      "Epoch 14: 9492 / 10000\n",
      "Epoch 15: 9509 / 10000\n",
      "Epoch 16: 9517 / 10000\n",
      "Epoch 17: 9476 / 10000\n",
      "Epoch 18: 9499 / 10000\n",
      "Epoch 19: 9500 / 10000\n",
      "Epoch 20: 9484 / 10000\n",
      "Epoch 21: 9487 / 10000\n",
      "Epoch 22: 9513 / 10000\n",
      "Epoch 23: 9503 / 10000\n",
      "Epoch 24: 9491 / 10000\n",
      "Epoch 25: 9497 / 10000\n",
      "Epoch 26: 9484 / 10000\n",
      "Epoch 27: 9500 / 10000\n",
      "Epoch 28: 9507 / 10000\n",
      "Epoch 29: 9502 / 10000\n"
     ]
    }
   ],
   "source": [
    "# Test\n",
    "# Layers: 784, 30, 10\n",
    "net = Network([784, 30, 10])\n",
    "net.sgd(training_data, 30, 10, 3.0, test_data=test_data)"
   ]
  },
  {
   "cell_type": "code",
   "execution_count": null,
   "metadata": {
    "collapsed": true
   },
   "outputs": [],
   "source": []
  }
 ],
 "metadata": {
  "kernelspec": {
   "display_name": "Python 3",
   "language": "python",
   "name": "python3"
  },
  "language_info": {
   "codemirror_mode": {
    "name": "ipython",
    "version": 3
   },
   "file_extension": ".py",
   "mimetype": "text/x-python",
   "name": "python",
   "nbconvert_exporter": "python",
   "pygments_lexer": "ipython3",
   "version": "3.6.3"
  }
 },
 "nbformat": 4,
 "nbformat_minor": 2
}
