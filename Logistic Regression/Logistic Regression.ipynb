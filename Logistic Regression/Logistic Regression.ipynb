{
 "cells": [
  {
   "cell_type": "markdown",
   "metadata": {
    "collapsed": true
   },
   "source": [
    "## Logistic Regression\n",
    "---"
   ]
  },
  {
   "cell_type": "markdown",
   "metadata": {},
   "source": [
    "### 1. Mathematics"
   ]
  },
  {
   "cell_type": "markdown",
   "metadata": {},
   "source": [
    "![](img/Logistic Regression Math.png)"
   ]
  },
  {
   "cell_type": "markdown",
   "metadata": {},
   "source": [
    "### 2. Code"
   ]
  },
  {
   "cell_type": "code",
   "execution_count": 1,
   "metadata": {
    "collapsed": true
   },
   "outputs": [],
   "source": [
    "import numpy as np\n",
    "import pandas as pd\n",
    "import matplotlib.pyplot as plt\n",
    "from scipy.interpolate import spline\n",
    "from sklearn.model_selection import train_test_split\n",
    "from sklearn import preprocessing\n",
    "%matplotlib inline"
   ]
  },
  {
   "cell_type": "code",
   "execution_count": 2,
   "metadata": {
    "collapsed": true
   },
   "outputs": [],
   "source": [
    "import numpy as np\n",
    "import pandas as pd\n",
    "import matplotlib.pyplot as plt\n",
    "from scipy.interpolate import spline\n",
    "from sklearn.model_selection import train_test_split\n",
    "from sklearn import preprocessing\n",
    "%matplotlib inline\n",
    "\n",
    "class LogisticRegression:\n",
    "    def __init__(self):\n",
    "        self.w = None\n",
    "        \n",
    "    def fit(self, x_train, y_train):\n",
    "        # initialization\n",
    "        # number of samples\n",
    "        n_sample = x_train.shape[0]\n",
    "        # number of features and x0 = 1\n",
    "        n_feature = x_train.shape[1] + 1\n",
    "        self.w = np.array([np.zeros(n_feature)]).T\n",
    "\n",
    "        X = np.concatenate((np.array([np.ones(n_sample)]).T, x_train), axis=1)\n",
    "        y = y_train\n",
    "\n",
    "        iteration = 500\n",
    "        \n",
    "        costs = self._batch_gradient_descent(X, y, iteration)\n",
    "\n",
    "        canvas = plt.figure()\n",
    "        sp = canvas.add_subplot(111)\n",
    "        \n",
    "        sp.set_xlim(0, iteration + 1)\n",
    "        sp.set_ylim(0, np.max(costs))\n",
    "        sp.plot([i for i in range(1, iteration + 1)], costs)\n",
    "        sp.set_xlabel('Iteration')\n",
    "        sp.set_ylabel('Cost')\n",
    "        \n",
    "        plt.show()\n",
    "        \n",
    "    def predict(self, x_test):\n",
    "        # make predictions using trained model\n",
    "        X = np.concatenate((np.array([np.ones(x_test.shape[0])]).T, x_test), axis=1)\n",
    "        preds = self.sigmoid(np.dot(self.w.T, X.T))\n",
    "        return preds\n",
    "\n",
    "    def _batch_gradient_descent(self, X, y, iteration):        \n",
    "        \n",
    "        def _compute_cost(w):\n",
    "            # compute cost for each w\n",
    "            h = np.dot(w.T, X.T).T\n",
    "            c = np.sum(-y * h - np.log(self.sigmoid(-h).T)) / m\n",
    "            return c\n",
    "\n",
    "        def _update_w(w):\n",
    "            # update w\n",
    "            # calculate derivatives based on current w\n",
    "            deriv = np.array([np.zeros(n)]).T\n",
    "            for j in range(n):\n",
    "                sigs = self.sigmoid(np.dot(w.T, X.T)).T\n",
    "                x_j = X[:, j].reshape(m, 1)\n",
    "\n",
    "                deriv[j] = np.sum(y * x_j - x_j * sigs) / (-m)\n",
    "            return w - alpha * deriv\n",
    "        \n",
    "        m = X.shape[0]\n",
    "        n = X.shape[1]\n",
    "        \n",
    "        alpha = 0.1\n",
    "        costs = np.zeros(iteration)\n",
    "        \n",
    "        weight = self.w\n",
    "        \n",
    "        for i in range(iteration):\n",
    "            costs[i] = _compute_cost(weight)\n",
    "            weight = _update_w(weight)\n",
    "            \n",
    "        self.w = weight\n",
    "        \n",
    "        return costs\n",
    "    \n",
    "    def sigmoid(self, x):\n",
    "        # Sigmoid function\n",
    "        return 1 / (1 + np.exp(-x))\n"
   ]
  },
  {
   "cell_type": "code",
   "execution_count": 3,
   "metadata": {
    "collapsed": true
   },
   "outputs": [],
   "source": [
    "df = pd.read_csv('data.csv')"
   ]
  },
  {
   "cell_type": "code",
   "execution_count": 4,
   "metadata": {
    "collapsed": true
   },
   "outputs": [],
   "source": [
    "X = preprocessing.scale(df[['x1', 'x2']])\n",
    "# X = df[['x1', 'x2']].values\n",
    "y = df[['y']].values\n",
    "x_train, x_test, y_train, y_test = train_test_split(X, y, test_size=0.2, random_state=0)"
   ]
  },
  {
   "cell_type": "code",
   "execution_count": 5,
   "metadata": {},
   "outputs": [
    {
     "data": {
      "image/png": "[encoded data removed]",
      "text/plain": [
       "<matplotlib.figure.Figure at 0x25483374f98>"
      ]
     },
     "metadata": {},
     "output_type": "display_data"
    }
   ],
   "source": [
    "lr = LogisticRegression()\n",
    "lr.fit(x_train, y_train)"
   ]
  },
  {
   "cell_type": "code",
   "execution_count": 6,
   "metadata": {
    "collapsed": true
   },
   "outputs": [],
   "source": [
    "predictions = lr.predict(x_test)\n",
    "predictions[predictions <= 0.5] = 0\n",
    "predictions[predictions > 0.5] = 1"
   ]
  },
  {
   "cell_type": "code",
   "execution_count": 7,
   "metadata": {},
   "outputs": [
    {
     "data": {
      "text/plain": [
       "0.2"
      ]
     },
     "execution_count": 7,
     "metadata": {},
     "output_type": "execute_result"
    }
   ],
   "source": [
    "errors = predictions.T - y_test\n",
    "np.count_nonzero(errors) / errors.size"
   ]
  },
  {
   "cell_type": "code",
   "execution_count": 8,
   "metadata": {},
   "outputs": [
    {
     "data": {
      "text/plain": [
       "array([[-0.03335151],\n",
       "       [ 1.13538268],\n",
       "       [ 1.5492722 ]])"
      ]
     },
     "execution_count": 8,
     "metadata": {},
     "output_type": "execute_result"
    }
   ],
   "source": [
    "# Coefficients\n",
    "lr.w"
   ]
  },
  {
   "cell_type": "code",
   "execution_count": null,
   "metadata": {
    "collapsed": true
   },
   "outputs": [],
   "source": []
  }
 ],
 "metadata": {
  "kernelspec": {
   "display_name": "Python 3",
   "language": "python",
   "name": "python3"
  },
  "language_info": {
   "codemirror_mode": {
    "name": "ipython",
    "version": 3
   },
   "file_extension": ".py",
   "mimetype": "text/x-python",
   "name": "python",
   "nbconvert_exporter": "python",
   "pygments_lexer": "ipython3",
   "version": "3.6.3"
  }
 },
 "nbformat": 4,
 "nbformat_minor": 2
}
